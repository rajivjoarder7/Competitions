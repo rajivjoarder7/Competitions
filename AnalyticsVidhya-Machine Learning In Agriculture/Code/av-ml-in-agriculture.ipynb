{
 "cells": [
  {
   "cell_type": "code",
   "execution_count": null,
   "metadata": {
    "papermill": {
     "duration": 0.026694,
     "end_time": "2021-05-06T20:12:59.637531",
     "exception": false,
     "start_time": "2021-05-06T20:12:59.610837",
     "status": "completed"
    },
    "tags": []
   },
   "outputs": [],
   "source": []
  },
  {
   "cell_type": "markdown",
   "metadata": {
    "papermill": {
     "duration": 0.026658,
     "end_time": "2021-05-06T20:12:59.690479",
     "exception": false,
     "start_time": "2021-05-06T20:12:59.663821",
     "status": "completed"
    },
    "tags": []
   },
   "source": [
    "# PROBLEM STATEMENT\n",
    "**The Toxic Pesticides\n",
    "Though, many of us don't appreciate much, but a farmer's job is real test of endurance and determination. Once the seeds are sown, he works days and nights to make sure that he cultivates a good harvest at the end of season. A good harvest is ensured by several factors such as availability of water, soil fertility, protecting crops from rodents, timely use of pesticides & other useful chemicals and nature. While a lot of these factors are difficult to control for, the amount and frequency of pesticides is something the farmer can control.**\n",
    "\n",
    "**Pesticides are also special, because while they protect the crop with the right dosage. But, if you add more than required, they may spoil the entire harvest. A high level of pesticide can deem the crop dead / unsuitable for consumption among many outcomes. This data is based on crops harvested by various farmers at the end of harvest season. To simplify the problem, you can assume that all other factors like variations in farming techniques have been controlled for.**\n",
    "\n",
    "**You need to daetermine the outcome of the harvest season, i.e. whether the crop would be healthy (alive), damaged by pesticides or damaged by other reasons.**\n",
    "\n",
    "The evaluation metric for this hackathon is Accuracy Score."
   ]
  },
  {
   "cell_type": "code",
   "execution_count": 1,
   "metadata": {
    "_cell_guid": "b1076dfc-b9ad-4769-8c92-a6c4dae69d19",
    "_uuid": "8f2839f25d086af736a60e9eeb907d3b93b6e0e5",
    "execution": {
     "iopub.execute_input": "2021-05-06T20:12:59.752914Z",
     "iopub.status.busy": "2021-05-06T20:12:59.752214Z",
     "iopub.status.idle": "2021-05-06T20:13:01.986982Z",
     "shell.execute_reply": "2021-05-06T20:13:01.987564Z"
    },
    "papermill": {
     "duration": 2.270276,
     "end_time": "2021-05-06T20:13:01.987759",
     "exception": false,
     "start_time": "2021-05-06T20:12:59.717483",
     "status": "completed"
    },
    "tags": []
   },
   "outputs": [],
   "source": [
    "import pandas as pd\n",
    "from sklearn.impute import SimpleImputer\n",
    "import numpy as np\n",
    "import matplotlib.pyplot as plt\n",
    "import seaborn as sns\n",
    "from sklearn.model_selection import train_test_split\n",
    "from sklearn.metrics import accuracy_score\n",
    "from sklearn.ensemble import RandomForestRegressor\n",
    "from sklearn.preprocessing import OneHotEncoder\n",
    "from sklearn import datasets, ensemble\n",
    "from sklearn.linear_model import LogisticRegression\n",
    "from xgboost import XGBRegressor\n",
    "from sklearn.preprocessing import StandardScaler\n",
    "from sklearn.model_selection import RandomizedSearchCV, GridSearchCV\n",
    "import datetime as dt\n",
    "from sklearn import  metrics   \n",
    "import xgboost as xgb\n",
    "from xgboost.sklearn import XGBClassifier"
   ]
  },
  {
   "cell_type": "markdown",
   "metadata": {
    "papermill": {
     "duration": 0.02623,
     "end_time": "2021-05-06T20:13:02.040393",
     "exception": false,
     "start_time": "2021-05-06T20:13:02.014163",
     "status": "completed"
    },
    "tags": []
   },
   "source": [
    "# DATA INPUT"
   ]
  },
  {
   "cell_type": "code",
   "execution_count": 2,
   "metadata": {
    "execution": {
     "iopub.execute_input": "2021-05-06T20:13:02.098991Z",
     "iopub.status.busy": "2021-05-06T20:13:02.098389Z",
     "iopub.status.idle": "2021-05-06T20:13:02.344985Z",
     "shell.execute_reply": "2021-05-06T20:13:02.344253Z"
    },
    "papermill": {
     "duration": 0.277037,
     "end_time": "2021-05-06T20:13:02.345104",
     "exception": false,
     "start_time": "2021-05-06T20:13:02.068067",
     "status": "completed"
    },
    "tags": []
   },
   "outputs": [],
   "source": [
    "\n",
    "train=pd.read_csv('../input/av-janatahack-machine-learning-in-agriculture/train_yaOffsB.csv')\n",
    "test=pd.read_csv('../input/av-janatahack-machine-learning-in-agriculture/test_pFkWwen.csv')"
   ]
  },
  {
   "cell_type": "code",
   "execution_count": 3,
   "metadata": {
    "execution": {
     "iopub.execute_input": "2021-05-06T20:13:02.408206Z",
     "iopub.status.busy": "2021-05-06T20:13:02.407497Z",
     "iopub.status.idle": "2021-05-06T20:13:02.411018Z",
     "shell.execute_reply": "2021-05-06T20:13:02.411615Z"
    },
    "papermill": {
     "duration": 0.039499,
     "end_time": "2021-05-06T20:13:02.411756",
     "exception": false,
     "start_time": "2021-05-06T20:13:02.372257",
     "status": "completed"
    },
    "tags": []
   },
   "outputs": [],
   "source": [
    "train['dataset']='train'\n",
    "test['dataset']='test'"
   ]
  },
  {
   "cell_type": "code",
   "execution_count": 4,
   "metadata": {
    "execution": {
     "iopub.execute_input": "2021-05-06T20:13:02.468834Z",
     "iopub.status.busy": "2021-05-06T20:13:02.468189Z",
     "iopub.status.idle": "2021-05-06T20:13:02.504144Z",
     "shell.execute_reply": "2021-05-06T20:13:02.504675Z"
    },
    "papermill": {
     "duration": 0.066221,
     "end_time": "2021-05-06T20:13:02.504819",
     "exception": false,
     "start_time": "2021-05-06T20:13:02.438598",
     "status": "completed"
    },
    "tags": []
   },
   "outputs": [],
   "source": [
    "final=pd.concat([train,test])"
   ]
  },
  {
   "cell_type": "code",
   "execution_count": 5,
   "metadata": {
    "execution": {
     "iopub.execute_input": "2021-05-06T20:13:02.562921Z",
     "iopub.status.busy": "2021-05-06T20:13:02.562324Z",
     "iopub.status.idle": "2021-05-06T20:13:02.603566Z",
     "shell.execute_reply": "2021-05-06T20:13:02.604011Z"
    },
    "papermill": {
     "duration": 0.072268,
     "end_time": "2021-05-06T20:13:02.604154",
     "exception": false,
     "start_time": "2021-05-06T20:13:02.531886",
     "status": "completed"
    },
    "tags": []
   },
   "outputs": [
    {
     "data": {
      "text/plain": [
       "train    88858\n",
       "test     59310\n",
       "Name: dataset, dtype: int64"
      ]
     },
     "execution_count": 5,
     "metadata": {},
     "output_type": "execute_result"
    }
   ],
   "source": [
    "final['dataset'].value_counts()"
   ]
  },
  {
   "cell_type": "markdown",
   "metadata": {
    "papermill": {
     "duration": 0.026797,
     "end_time": "2021-05-06T20:13:02.658663",
     "exception": false,
     "start_time": "2021-05-06T20:13:02.631866",
     "status": "completed"
    },
    "tags": []
   },
   "source": [
    "# EXPLORATORY DATA ANALYSIS(EDA)"
   ]
  },
  {
   "cell_type": "code",
   "execution_count": 6,
   "metadata": {
    "execution": {
     "iopub.execute_input": "2021-05-06T20:13:02.716876Z",
     "iopub.status.busy": "2021-05-06T20:13:02.716281Z",
     "iopub.status.idle": "2021-05-06T20:13:02.720900Z",
     "shell.execute_reply": "2021-05-06T20:13:02.720430Z"
    },
    "papermill": {
     "duration": 0.034614,
     "end_time": "2021-05-06T20:13:02.721020",
     "exception": false,
     "start_time": "2021-05-06T20:13:02.686406",
     "status": "completed"
    },
    "tags": []
   },
   "outputs": [],
   "source": [
    "sns.set_style('whitegrid')"
   ]
  },
  {
   "cell_type": "code",
   "execution_count": 7,
   "metadata": {
    "execution": {
     "iopub.execute_input": "2021-05-06T20:13:02.783424Z",
     "iopub.status.busy": "2021-05-06T20:13:02.782763Z",
     "iopub.status.idle": "2021-05-06T20:13:03.412291Z",
     "shell.execute_reply": "2021-05-06T20:13:03.411740Z"
    },
    "papermill": {
     "duration": 0.664226,
     "end_time": "2021-05-06T20:13:03.412406",
     "exception": false,
     "start_time": "2021-05-06T20:13:02.748180",
     "status": "completed"
    },
    "tags": []
   },
   "outputs": [
    {
     "data": {
      "text/plain": [
       "<matplotlib.legend.Legend at 0x7f63fb3ff390>"
      ]
     },
     "execution_count": 7,
     "metadata": {},
     "output_type": "execute_result"
    },
    {
     "data": {
      "image/png": "[encoded data removed]",
      "text/plain": [
       "<Figure size 432x288 with 1 Axes>"
      ]
     },
     "metadata": {},
     "output_type": "display_data"
    }
   ],
   "source": [
    "# Number_Weeks_Used\n",
    "sns.distplot(final[final['Crop_Damage']==0]['Number_Weeks_Used'],bins=40,color='black',kde=False)\n",
    "sns.distplot(final[final['Crop_Damage']==1]['Number_Weeks_Used'],bins=40,color='green',kde=False)\n",
    "sns.distplot(final[final['Crop_Damage']==2]['Number_Weeks_Used'],bins=40,color='blue',kde=False)\n",
    "plt.legend(labels=['ALIVE', 'DAMAGE-OTHERS', 'DAMAGE-PESTICIDE'])"
   ]
  },
  {
   "cell_type": "code",
   "execution_count": 8,
   "metadata": {
    "execution": {
     "iopub.execute_input": "2021-05-06T20:13:03.477869Z",
     "iopub.status.busy": "2021-05-06T20:13:03.477228Z",
     "iopub.status.idle": "2021-05-06T20:13:04.060725Z",
     "shell.execute_reply": "2021-05-06T20:13:04.061291Z"
    },
    "papermill": {
     "duration": 0.620096,
     "end_time": "2021-05-06T20:13:04.061485",
     "exception": false,
     "start_time": "2021-05-06T20:13:03.441389",
     "status": "completed"
    },
    "tags": []
   },
   "outputs": [
    {
     "data": {
      "text/plain": [
       "<matplotlib.legend.Legend at 0x7f63fb176150>"
      ]
     },
     "execution_count": 8,
     "metadata": {},
     "output_type": "execute_result"
    },
    {
     "data": {
      "image/png": "[encoded data removed]",
      "text/plain": [
       "<Figure size 432x288 with 1 Axes>"
      ]
     },
     "metadata": {},
     "output_type": "display_data"
    }
   ],
   "source": [
    "#Number_Weeks_Quit\n",
    "sns.distplot(final[final['Crop_Damage']==0]['Number_Weeks_Quit'],bins=40,color='black',kde=False)\n",
    "sns.distplot(final[final['Crop_Damage']==1]['Number_Weeks_Quit'],bins=40,color='green',kde=False)\n",
    "sns.distplot(final[final['Crop_Damage']==2]['Number_Weeks_Quit'],bins=40,color='blue',kde=False)\n",
    "plt.legend(labels=['ALIVE', 'DAMAGE-OTHERS', 'DAMAGE-PESTICIDE'])"
   ]
  },
  {
   "cell_type": "code",
   "execution_count": 9,
   "metadata": {
    "execution": {
     "iopub.execute_input": "2021-05-06T20:13:04.129647Z",
     "iopub.status.busy": "2021-05-06T20:13:04.128998Z",
     "iopub.status.idle": "2021-05-06T20:13:04.338819Z",
     "shell.execute_reply": "2021-05-06T20:13:04.338324Z"
    },
    "papermill": {
     "duration": 0.245718,
     "end_time": "2021-05-06T20:13:04.338919",
     "exception": false,
     "start_time": "2021-05-06T20:13:04.093201",
     "status": "completed"
    },
    "tags": []
   },
   "outputs": [
    {
     "data": {
      "text/plain": [
       "<matplotlib.legend.Legend at 0x7f63fa9f44d0>"
      ]
     },
     "execution_count": 9,
     "metadata": {},
     "output_type": "execute_result"
    },
    {
     "data": {
      "image/png": "[encoded data removed]",
      "text/plain": [
       "<Figure size 432x288 with 1 Axes>"
      ]
     },
     "metadata": {},
     "output_type": "display_data"
    }
   ],
   "source": [
    "# Season\n",
    "sns.countplot(x='Season',data=final,hue='Crop_Damage')\n",
    "plt.legend(labels=['ALIVE', 'DAMAGE-OTHERS', 'DAMAGE-PESTICIDE'])"
   ]
  },
  {
   "cell_type": "code",
   "execution_count": 10,
   "metadata": {
    "execution": {
     "iopub.execute_input": "2021-05-06T20:13:04.427766Z",
     "iopub.status.busy": "2021-05-06T20:13:04.427012Z",
     "iopub.status.idle": "2021-05-06T20:13:04.464874Z",
     "shell.execute_reply": "2021-05-06T20:13:04.464344Z"
    },
    "papermill": {
     "duration": 0.094978,
     "end_time": "2021-05-06T20:13:04.464981",
     "exception": false,
     "start_time": "2021-05-06T20:13:04.370003",
     "status": "completed"
    },
    "tags": []
   },
   "outputs": [
    {
     "data": {
      "text/plain": [
       "(                    Crop_Damage\n",
       " Season Crop_Damage             \n",
       " 1      0.0                22493\n",
       "        1.0                 3748\n",
       "        2.0                  661\n",
       " 2      0.0                36881\n",
       "        1.0                 6115\n",
       "        2.0                 1214\n",
       " 3      0.0                14864\n",
       "        1.0                 2444\n",
       "        2.0                  438,\n",
       "                     Crop_Damage\n",
       " Season Crop_Damage             \n",
       " 1      0.0                83.61\n",
       "        1.0                13.93\n",
       "        2.0                 2.46\n",
       " 2      0.0                83.42\n",
       "        1.0                13.83\n",
       "        2.0                 2.75\n",
       " 3      0.0                83.76\n",
       "        1.0                13.77\n",
       "        2.0                 2.47)"
      ]
     },
     "execution_count": 10,
     "metadata": {},
     "output_type": "execute_result"
    }
   ],
   "source": [
    "df = final[final['dataset']=='train'].groupby(['Season', 'Crop_Damage']).agg({'Crop_Damage': 'count'})\n",
    "percentage = df.groupby(level=0).apply(lambda x:round(100 * x / x.sum(),2))\n",
    "df, percentage"
   ]
  },
  {
   "cell_type": "markdown",
   "metadata": {
    "papermill": {
     "duration": 0.03165,
     "end_time": "2021-05-06T20:13:04.528966",
     "exception": false,
     "start_time": "2021-05-06T20:13:04.497316",
     "status": "completed"
    },
    "tags": []
   },
   "source": [
    "*Seasons dont have much effect in survival percentage rate*"
   ]
  },
  {
   "cell_type": "code",
   "execution_count": 11,
   "metadata": {
    "execution": {
     "iopub.execute_input": "2021-05-06T20:13:04.600022Z",
     "iopub.status.busy": "2021-05-06T20:13:04.599384Z",
     "iopub.status.idle": "2021-05-06T20:13:05.179582Z",
     "shell.execute_reply": "2021-05-06T20:13:05.179055Z"
    },
    "papermill": {
     "duration": 0.61929,
     "end_time": "2021-05-06T20:13:05.179684",
     "exception": false,
     "start_time": "2021-05-06T20:13:04.560394",
     "status": "completed"
    },
    "tags": []
   },
   "outputs": [
    {
     "data": {
      "text/plain": [
       "<matplotlib.legend.Legend at 0x7f63fb279a10>"
      ]
     },
     "execution_count": 11,
     "metadata": {},
     "output_type": "execute_result"
    },
    {
     "data": {
      "image/png": "[encoded data removed]",
      "text/plain": [
       "<Figure size 432x288 with 1 Axes>"
      ]
     },
     "metadata": {},
     "output_type": "display_data"
    }
   ],
   "source": [
    "# Number_Doses_Week\n",
    "sns.distplot(final[final['Crop_Damage']==0]['Number_Doses_Week'],bins=30,color='black',kde=False)\n",
    "sns.distplot(final[final['Crop_Damage']==1]['Number_Doses_Week'],bins=30,color='green',kde=False)\n",
    "sns.distplot(final[final['Crop_Damage']==2]['Number_Doses_Week'],bins=30,color='red',kde=False)\n",
    "plt.legend(labels=['ALIVE', 'DAMAGE-OTHERS', 'DAMAGE-PESTICIDE'])"
   ]
  },
  {
   "cell_type": "code",
   "execution_count": 12,
   "metadata": {
    "execution": {
     "iopub.execute_input": "2021-05-06T20:13:05.249390Z",
     "iopub.status.busy": "2021-05-06T20:13:05.248715Z",
     "iopub.status.idle": "2021-05-06T20:13:05.435022Z",
     "shell.execute_reply": "2021-05-06T20:13:05.434459Z"
    },
    "papermill": {
     "duration": 0.223453,
     "end_time": "2021-05-06T20:13:05.435120",
     "exception": false,
     "start_time": "2021-05-06T20:13:05.211667",
     "status": "completed"
    },
    "tags": []
   },
   "outputs": [
    {
     "data": {
      "text/plain": [
       "<matplotlib.legend.Legend at 0x7f63fa4e8c50>"
      ]
     },
     "execution_count": 12,
     "metadata": {},
     "output_type": "execute_result"
    },
    {
     "data": {
      "image/png": "[encoded data removed]",
      "text/plain": [
       "<Figure size 432x288 with 1 Axes>"
      ]
     },
     "metadata": {},
     "output_type": "display_data"
    }
   ],
   "source": [
    "#Pesticide_Use_Category\n",
    "sns.countplot(x='Pesticide_Use_Category',data=final,hue='Crop_Damage')\n",
    "plt.legend(labels=['ALIVE', 'DAMAGE-OTHERS', 'DAMAGE-PESTICIDE'])"
   ]
  },
  {
   "cell_type": "code",
   "execution_count": 13,
   "metadata": {
    "execution": {
     "iopub.execute_input": "2021-05-06T20:13:05.527365Z",
     "iopub.status.busy": "2021-05-06T20:13:05.526713Z",
     "iopub.status.idle": "2021-05-06T20:13:05.562262Z",
     "shell.execute_reply": "2021-05-06T20:13:05.561740Z"
    },
    "papermill": {
     "duration": 0.094514,
     "end_time": "2021-05-06T20:13:05.562405",
     "exception": false,
     "start_time": "2021-05-06T20:13:05.467891",
     "status": "completed"
    },
    "tags": []
   },
   "outputs": [
    {
     "data": {
      "text/plain": [
       "(                                    Crop_Damage\n",
       " Pesticide_Use_Category Crop_Damage             \n",
       " 1                      0.0                  118\n",
       "                        1.0                  554\n",
       "                        2.0                  165\n",
       " 2                      0.0                56958\n",
       "                        1.0                 6072\n",
       "                        2.0                  679\n",
       " 3                      0.0                17162\n",
       "                        1.0                 5681\n",
       "                        2.0                 1469,\n",
       "                                     Crop_Damage\n",
       " Pesticide_Use_Category Crop_Damage             \n",
       " 1                      0.0                14.10\n",
       "                        1.0                66.19\n",
       "                        2.0                19.71\n",
       " 2                      0.0                89.40\n",
       "                        1.0                 9.53\n",
       "                        2.0                 1.07\n",
       " 3                      0.0                70.59\n",
       "                        1.0                23.37\n",
       "                        2.0                 6.04)"
      ]
     },
     "execution_count": 13,
     "metadata": {},
     "output_type": "execute_result"
    }
   ],
   "source": [
    "df = final[final['dataset']=='train'].groupby(['Pesticide_Use_Category', 'Crop_Damage']).agg({'Crop_Damage': 'count'})\n",
    "percentage = df.groupby(level=0).apply(lambda x:round(100 * x / x.sum(),2))\n",
    "df,percentage"
   ]
  },
  {
   "cell_type": "markdown",
   "metadata": {
    "papermill": {
     "duration": 0.035302,
     "end_time": "2021-05-06T20:13:05.633371",
     "exception": false,
     "start_time": "2021-05-06T20:13:05.598069",
     "status": "completed"
    },
    "tags": []
   },
   "source": [
    "*Among pesticide categories, category 2(previously used) has highest Survival rate*"
   ]
  },
  {
   "cell_type": "code",
   "execution_count": 14,
   "metadata": {
    "execution": {
     "iopub.execute_input": "2021-05-06T20:13:05.707046Z",
     "iopub.status.busy": "2021-05-06T20:13:05.706427Z",
     "iopub.status.idle": "2021-05-06T20:13:05.893893Z",
     "shell.execute_reply": "2021-05-06T20:13:05.892750Z"
    },
    "papermill": {
     "duration": 0.226309,
     "end_time": "2021-05-06T20:13:05.894018",
     "exception": false,
     "start_time": "2021-05-06T20:13:05.667709",
     "status": "completed"
    },
    "tags": []
   },
   "outputs": [
    {
     "data": {
      "text/plain": [
       "<matplotlib.legend.Legend at 0x7f63fa3e1d90>"
      ]
     },
     "execution_count": 14,
     "metadata": {},
     "output_type": "execute_result"
    },
    {
     "data": {
      "image/png": "[encoded data removed]",
      "text/plain": [
       "<Figure size 432x288 with 1 Axes>"
      ]
     },
     "metadata": {},
     "output_type": "display_data"
    }
   ],
   "source": [
    "#Soil_Type\n",
    "sns.countplot(x='Soil_Type',data=final,hue='Crop_Damage')\n",
    "plt.legend(labels=['ALIVE', 'OTHERS', 'PESTICIDE'])"
   ]
  },
  {
   "cell_type": "code",
   "execution_count": 15,
   "metadata": {
    "execution": {
     "iopub.execute_input": "2021-05-06T20:13:05.992920Z",
     "iopub.status.busy": "2021-05-06T20:13:05.992196Z",
     "iopub.status.idle": "2021-05-06T20:13:06.022333Z",
     "shell.execute_reply": "2021-05-06T20:13:06.022836Z"
    },
    "papermill": {
     "duration": 0.091382,
     "end_time": "2021-05-06T20:13:06.022989",
     "exception": false,
     "start_time": "2021-05-06T20:13:05.931607",
     "status": "completed"
    },
    "tags": []
   },
   "outputs": [
    {
     "data": {
      "text/plain": [
       "(                       Crop_Damage\n",
       " Soil_Type Crop_Damage             \n",
       " 0         0.0                39841\n",
       "           1.0                 6953\n",
       "           2.0                 1330\n",
       " 1         0.0                34397\n",
       "           1.0                 5354\n",
       "           2.0                  983,\n",
       "                        Crop_Damage\n",
       " Soil_Type Crop_Damage             \n",
       " 0         0.0                82.79\n",
       "           1.0                14.45\n",
       "           2.0                 2.76\n",
       " 1         0.0                84.44\n",
       "           1.0                13.14\n",
       "           2.0                 2.41)"
      ]
     },
     "execution_count": 15,
     "metadata": {},
     "output_type": "execute_result"
    }
   ],
   "source": [
    "df = final[final['dataset']=='train'].groupby(['Soil_Type', 'Crop_Damage']).agg({'Crop_Damage': 'count'})\n",
    "percentage = df.groupby(level=0).apply(lambda x:round(100 * x / x.sum(),2))\n",
    "df, percentage"
   ]
  },
  {
   "cell_type": "markdown",
   "metadata": {
    "papermill": {
     "duration": 0.036997,
     "end_time": "2021-05-06T20:13:06.095244",
     "exception": false,
     "start_time": "2021-05-06T20:13:06.058247",
     "status": "completed"
    },
    "tags": []
   },
   "source": [
    "*Soil Type1 has slightly higher survival rate than Type0*"
   ]
  },
  {
   "cell_type": "code",
   "execution_count": 16,
   "metadata": {
    "execution": {
     "iopub.execute_input": "2021-05-06T20:13:06.176396Z",
     "iopub.status.busy": "2021-05-06T20:13:06.175721Z",
     "iopub.status.idle": "2021-05-06T20:13:06.675478Z",
     "shell.execute_reply": "2021-05-06T20:13:06.675890Z"
    },
    "papermill": {
     "duration": 0.544217,
     "end_time": "2021-05-06T20:13:06.676060",
     "exception": false,
     "start_time": "2021-05-06T20:13:06.131843",
     "status": "completed"
    },
    "tags": []
   },
   "outputs": [
    {
     "data": {
      "text/plain": [
       "<matplotlib.legend.Legend at 0x7f63fa2eb2d0>"
      ]
     },
     "execution_count": 16,
     "metadata": {},
     "output_type": "execute_result"
    },
    {
     "data": {
      "image/png": "[encoded data removed]",
      "text/plain": [
       "<Figure size 432x288 with 1 Axes>"
      ]
     },
     "metadata": {},
     "output_type": "display_data"
    }
   ],
   "source": [
    "#Estimated_Insects_Count\n",
    "sns.distplot(final[final['Crop_Damage']==0]['Estimated_Insects_Count'],bins=30,color='black',kde=False)\n",
    "sns.distplot(final[final['Crop_Damage']==1]['Estimated_Insects_Count'],bins=30,color='blue',kde=False)\n",
    "sns.distplot(final[final['Crop_Damage']==2]['Estimated_Insects_Count'],bins=30,color='red',kde=False)\n",
    "plt.legend(labels=['ALIVE', 'DAMAGE-OTHERS', 'DAMAGE-PESTICIDE'])"
   ]
  },
  {
   "cell_type": "code",
   "execution_count": 17,
   "metadata": {
    "execution": {
     "iopub.execute_input": "2021-05-06T20:13:06.755153Z",
     "iopub.status.busy": "2021-05-06T20:13:06.754484Z",
     "iopub.status.idle": "2021-05-06T20:13:06.934606Z",
     "shell.execute_reply": "2021-05-06T20:13:06.933944Z"
    },
    "papermill": {
     "duration": 0.22098,
     "end_time": "2021-05-06T20:13:06.934719",
     "exception": false,
     "start_time": "2021-05-06T20:13:06.713739",
     "status": "completed"
    },
    "tags": []
   },
   "outputs": [
    {
     "data": {
      "text/plain": [
       "<matplotlib.legend.Legend at 0x7f63fa165690>"
      ]
     },
     "execution_count": 17,
     "metadata": {},
     "output_type": "execute_result"
    },
    {
     "data": {
      "image/png": "[encoded data removed]",
      "text/plain": [
       "<Figure size 432x288 with 1 Axes>"
      ]
     },
     "metadata": {},
     "output_type": "display_data"
    }
   ],
   "source": [
    "#Crop_Type\n",
    "sns.countplot(x='Crop_Type',data=final,hue='Crop_Damage')\n",
    "plt.legend(labels=['ALIVE', 'DAMAGE-OTHERS', 'DAMAGE-PESTICIDE'])"
   ]
  },
  {
   "cell_type": "code",
   "execution_count": 18,
   "metadata": {
    "execution": {
     "iopub.execute_input": "2021-05-06T20:13:07.041879Z",
     "iopub.status.busy": "2021-05-06T20:13:07.041203Z",
     "iopub.status.idle": "2021-05-06T20:13:07.074214Z",
     "shell.execute_reply": "2021-05-06T20:13:07.073653Z"
    },
    "papermill": {
     "duration": 0.099338,
     "end_time": "2021-05-06T20:13:07.074345",
     "exception": false,
     "start_time": "2021-05-06T20:13:06.975007",
     "status": "completed"
    },
    "tags": []
   },
   "outputs": [
    {
     "data": {
      "text/plain": [
       "(                       Crop_Damage\n",
       " Crop_Type Crop_Damage             \n",
       " 0         0.0                52778\n",
       "           1.0                 9204\n",
       "           2.0                 1607\n",
       " 1         0.0                21460\n",
       "           1.0                 3103\n",
       "           2.0                  706,\n",
       "                        Crop_Damage\n",
       " Crop_Type Crop_Damage             \n",
       " 0         0.0                83.00\n",
       "           1.0                14.47\n",
       "           2.0                 2.53\n",
       " 1         0.0                84.93\n",
       "           1.0                12.28\n",
       "           2.0                 2.79)"
      ]
     },
     "execution_count": 18,
     "metadata": {},
     "output_type": "execute_result"
    }
   ],
   "source": [
    "df = final[final['dataset']=='train'].groupby(['Crop_Type', 'Crop_Damage']).agg({'Crop_Damage': 'count'})\n",
    "percentage = df.groupby(level=0).apply(lambda x:round(100 * x / x.sum(),2))\n",
    "df, percentage"
   ]
  },
  {
   "cell_type": "markdown",
   "metadata": {
    "papermill": {
     "duration": 0.040912,
     "end_time": "2021-05-06T20:13:07.156380",
     "exception": false,
     "start_time": "2021-05-06T20:13:07.115468",
     "status": "completed"
    },
    "tags": []
   },
   "source": [
    "*Crop Type1 has slightly more survival percentage rate than Type0*"
   ]
  },
  {
   "cell_type": "code",
   "execution_count": 19,
   "metadata": {
    "execution": {
     "iopub.execute_input": "2021-05-06T20:13:07.242911Z",
     "iopub.status.busy": "2021-05-06T20:13:07.242211Z",
     "iopub.status.idle": "2021-05-06T20:13:08.913915Z",
     "shell.execute_reply": "2021-05-06T20:13:08.913370Z"
    },
    "papermill": {
     "duration": 1.716908,
     "end_time": "2021-05-06T20:13:08.914036",
     "exception": false,
     "start_time": "2021-05-06T20:13:07.197128",
     "status": "completed"
    },
    "tags": []
   },
   "outputs": [
    {
     "data": {
      "text/plain": [
       "<matplotlib.axes._subplots.AxesSubplot at 0x7f63fa0a0550>"
      ]
     },
     "execution_count": 19,
     "metadata": {},
     "output_type": "execute_result"
    },
    {
     "data": {
      "image/png": "[encoded data removed]",
      "text/plain": [
       "<Figure size 432x288 with 2 Axes>"
      ]
     },
     "metadata": {},
     "output_type": "display_data"
    }
   ],
   "source": [
    "sns.heatmap(final.isna())"
   ]
  },
  {
   "cell_type": "code",
   "execution_count": 20,
   "metadata": {
    "execution": {
     "iopub.execute_input": "2021-05-06T20:13:09.005213Z",
     "iopub.status.busy": "2021-05-06T20:13:09.004522Z",
     "iopub.status.idle": "2021-05-06T20:13:09.613921Z",
     "shell.execute_reply": "2021-05-06T20:13:09.613246Z"
    },
    "papermill": {
     "duration": 0.657492,
     "end_time": "2021-05-06T20:13:09.614035",
     "exception": false,
     "start_time": "2021-05-06T20:13:08.956543",
     "status": "completed"
    },
    "tags": []
   },
   "outputs": [
    {
     "data": {
      "text/plain": [
       "<matplotlib.axes._subplots.AxesSubplot at 0x7f63f9fa1210>"
      ]
     },
     "execution_count": 20,
     "metadata": {},
     "output_type": "execute_result"
    },
    {
     "data": {
      "image/png": "[encoded data removed]",
      "text/plain": [
       "<Figure size 432x288 with 2 Axes>"
      ]
     },
     "metadata": {},
     "output_type": "display_data"
    }
   ],
   "source": [
    "sns.heatmap(final.corr(),annot=True)"
   ]
  },
  {
   "cell_type": "markdown",
   "metadata": {
    "papermill": {
     "duration": 0.045206,
     "end_time": "2021-05-06T20:13:09.704694",
     "exception": false,
     "start_time": "2021-05-06T20:13:09.659488",
     "status": "completed"
    },
    "tags": []
   },
   "source": [
    "*Feature Estimated_Insects_Count has good correlation with Number_Weeks_Used*"
   ]
  },
  {
   "cell_type": "markdown",
   "metadata": {
    "papermill": {
     "duration": 0.045678,
     "end_time": "2021-05-06T20:13:09.796293",
     "exception": false,
     "start_time": "2021-05-06T20:13:09.750615",
     "status": "completed"
    },
    "tags": []
   },
   "source": [
    "# FEATURE ENGINEERING"
   ]
  },
  {
   "cell_type": "code",
   "execution_count": 21,
   "metadata": {
    "execution": {
     "iopub.execute_input": "2021-05-06T20:13:09.894409Z",
     "iopub.status.busy": "2021-05-06T20:13:09.893315Z",
     "iopub.status.idle": "2021-05-06T20:13:09.929951Z",
     "shell.execute_reply": "2021-05-06T20:13:09.929291Z"
    },
    "papermill": {
     "duration": 0.088038,
     "end_time": "2021-05-06T20:13:09.930070",
     "exception": false,
     "start_time": "2021-05-06T20:13:09.842032",
     "status": "completed"
    },
    "tags": []
   },
   "outputs": [],
   "source": [
    "# Imputing missing Values\n",
    "final.fillna(-1, inplace=True)"
   ]
  },
  {
   "cell_type": "code",
   "execution_count": 22,
   "metadata": {
    "execution": {
     "iopub.execute_input": "2021-05-06T20:13:10.036340Z",
     "iopub.status.busy": "2021-05-06T20:13:10.034837Z",
     "iopub.status.idle": "2021-05-06T20:13:10.210525Z",
     "shell.execute_reply": "2021-05-06T20:13:10.209816Z"
    },
    "papermill": {
     "duration": 0.233912,
     "end_time": "2021-05-06T20:13:10.210645",
     "exception": false,
     "start_time": "2021-05-06T20:13:09.976733",
     "status": "completed"
    },
    "tags": []
   },
   "outputs": [],
   "source": [
    "final['Uniq_crops_per_season']=final.groupby(['Season'])['ID'].transform('nunique')\n",
    "\n",
    "final['Uniq_crops_per_soil']=final.groupby(['Soil_Type'])['ID'].transform('nunique')\n",
    "\n",
    "final['Uniq_crops_per_pesticide']=final.groupby(['Pesticide_Use_Category'])['ID'].transform('nunique')\n",
    "\n",
    "final['Uniq_crops_per_CT']=final.groupby(['Crop_Type'])['ID'].transform('nunique')\n",
    "\n",
    "final['Crop_Type'] = final['Crop_Type'].astype('category')\n",
    "#final['Crop_Type'].value_counts()\n",
    "\n",
    "final['Soil_Type'] = final['Soil_Type'].astype('category')\n",
    "#final['Soil_Type'].value_counts()\n",
    "\n",
    "final['Pesticide_Use_Category']=final['Pesticide_Use_Category'].astype('category')\n",
    "#final['Pesticide_Use_Category'].value_counts()\n",
    "\n",
    "final['Season']=final['Season'].astype('category')\n",
    "#final['Season'].value_counts()\n",
    "\n",
    "final['Uniq_crops_per_season'] = final['Uniq_crops_per_season'].astype('category')\n",
    "#final['Uniq_crops_per_season'].value_counts()\n",
    "\n",
    "final['Uniq_crops_per_soil'] = final['Uniq_crops_per_soil'].astype('category')\n",
    "#final['Uniq_crops_per_soil'].value_counts()\n",
    "\n",
    "final['Uniq_crops_per_pesticide']=final['Uniq_crops_per_pesticide'].astype('category')\n",
    "#final['Uniq_crops_per_pesticide'].value_counts()\n",
    "\n",
    "final['Uniq_crops_per_CT']=final['Uniq_crops_per_CT'].astype('category')\n",
    "#final['Uniq_crops_per_CT'].value_counts()\n"
   ]
  },
  {
   "cell_type": "markdown",
   "metadata": {
    "papermill": {
     "duration": 0.046153,
     "end_time": "2021-05-06T20:13:10.303530",
     "exception": false,
     "start_time": "2021-05-06T20:13:10.257377",
     "status": "completed"
    },
    "tags": []
   },
   "source": [
    "# Train Test Split"
   ]
  },
  {
   "cell_type": "code",
   "execution_count": 23,
   "metadata": {
    "execution": {
     "iopub.execute_input": "2021-05-06T20:13:10.422144Z",
     "iopub.status.busy": "2021-05-06T20:13:10.420992Z",
     "iopub.status.idle": "2021-05-06T20:13:10.482740Z",
     "shell.execute_reply": "2021-05-06T20:13:10.483199Z"
    },
    "papermill": {
     "duration": 0.134331,
     "end_time": "2021-05-06T20:13:10.483363",
     "exception": false,
     "start_time": "2021-05-06T20:13:10.349032",
     "status": "completed"
    },
    "tags": []
   },
   "outputs": [
    {
     "name": "stderr",
     "output_type": "stream",
     "text": [
      "/opt/conda/lib/python3.7/site-packages/pandas/core/frame.py:3997: SettingWithCopyWarning: \n",
      "A value is trying to be set on a copy of a slice from a DataFrame\n",
      "\n",
      "See the caveats in the documentation: https://pandas.pydata.org/pandas-docs/stable/user_guide/indexing.html#returning-a-view-versus-a-copy\n",
      "  errors=errors,\n"
     ]
    },
    {
     "data": {
      "text/plain": [
       "((88858, 14), (59310, 13))"
      ]
     },
     "execution_count": 23,
     "metadata": {},
     "output_type": "execute_result"
    }
   ],
   "source": [
    "train, test = final[final.dataset == 'train'], final[final.dataset == 'test']\n",
    "train.drop(['dataset'], inplace=True, axis=1)\n",
    "test.drop(['dataset'], inplace=True, axis=1)\n",
    "test.drop(['Crop_Damage'], inplace=True, axis=1)\n",
    "train.shape, test.shape"
   ]
  },
  {
   "cell_type": "code",
   "execution_count": 24,
   "metadata": {
    "execution": {
     "iopub.execute_input": "2021-05-06T20:13:10.585507Z",
     "iopub.status.busy": "2021-05-06T20:13:10.582768Z",
     "iopub.status.idle": "2021-05-06T20:13:10.597343Z",
     "shell.execute_reply": "2021-05-06T20:13:10.596688Z"
    },
    "papermill": {
     "duration": 0.067521,
     "end_time": "2021-05-06T20:13:10.597456",
     "exception": false,
     "start_time": "2021-05-06T20:13:10.529935",
     "status": "completed"
    },
    "tags": []
   },
   "outputs": [
    {
     "data": {
      "text/plain": [
       "0        F00000002\n",
       "1        F00000007\n",
       "2        F00000011\n",
       "3        F00000013\n",
       "4        F00000014\n",
       "           ...    \n",
       "59305    F00155937\n",
       "59306    F00155940\n",
       "59307    F00155941\n",
       "59308    F00155943\n",
       "59309    F00155944\n",
       "Name: ID, Length: 59310, dtype: object"
      ]
     },
     "execution_count": 24,
     "metadata": {},
     "output_type": "execute_result"
    }
   ],
   "source": [
    "train.drop(['ID'], axis=1, inplace=True)\n",
    "test_id=test['ID']\n",
    "test.drop(['ID'], axis=1, inplace=True)\n",
    "test_id"
   ]
  },
  {
   "cell_type": "code",
   "execution_count": 25,
   "metadata": {
    "execution": {
     "iopub.execute_input": "2021-05-06T20:13:10.699762Z",
     "iopub.status.busy": "2021-05-06T20:13:10.699015Z",
     "iopub.status.idle": "2021-05-06T20:13:10.703570Z",
     "shell.execute_reply": "2021-05-06T20:13:10.704026Z"
    },
    "papermill": {
     "duration": 0.059644,
     "end_time": "2021-05-06T20:13:10.704175",
     "exception": false,
     "start_time": "2021-05-06T20:13:10.644531",
     "status": "completed"
    },
    "tags": []
   },
   "outputs": [],
   "source": [
    "y=train['Crop_Damage']\n",
    "train.drop(['Crop_Damage'], axis=1, inplace=True)"
   ]
  },
  {
   "cell_type": "code",
   "execution_count": 26,
   "metadata": {
    "execution": {
     "iopub.execute_input": "2021-05-06T20:13:10.806781Z",
     "iopub.status.busy": "2021-05-06T20:13:10.805804Z",
     "iopub.status.idle": "2021-05-06T20:13:10.882733Z",
     "shell.execute_reply": "2021-05-06T20:13:10.883214Z"
    },
    "papermill": {
     "duration": 0.13084,
     "end_time": "2021-05-06T20:13:10.883407",
     "exception": false,
     "start_time": "2021-05-06T20:13:10.752567",
     "status": "completed"
    },
    "tags": []
   },
   "outputs": [],
   "source": [
    "x_train, x_test, y_train, y_test = train_test_split(train, y,test_size=0.20,random_state=0,\n",
    "                                                    stratify=y)"
   ]
  },
  {
   "cell_type": "markdown",
   "metadata": {
    "papermill": {
     "duration": 0.047994,
     "end_time": "2021-05-06T20:13:10.978836",
     "exception": false,
     "start_time": "2021-05-06T20:13:10.930842",
     "status": "completed"
    },
    "tags": []
   },
   "source": [
    "# FITTING MODEL AND MAKING PREDICTION ON TEST"
   ]
  },
  {
   "cell_type": "code",
   "execution_count": 27,
   "metadata": {
    "execution": {
     "iopub.execute_input": "2021-05-06T20:13:11.077148Z",
     "iopub.status.busy": "2021-05-06T20:13:11.076162Z",
     "iopub.status.idle": "2021-05-06T20:13:11.083762Z",
     "shell.execute_reply": "2021-05-06T20:13:11.084315Z"
    },
    "papermill": {
     "duration": 0.058373,
     "end_time": "2021-05-06T20:13:11.084472",
     "exception": false,
     "start_time": "2021-05-06T20:13:11.026099",
     "status": "completed"
    },
    "tags": []
   },
   "outputs": [],
   "source": [
    "params = {}\n",
    "params['learning_rate'] = 0.04\n",
    "#params['min_child_samples'] = 40\n",
    "params['max_depth'] = 18\n",
    "params['n_estimators'] = 1000\n",
    "params['objective'] = 'multiclass'\n",
    "params['boosting_type'] = 'gbdt'\n",
    "params['subsample'] = 0.7\n",
    "params['random_state'] = 42\n",
    "params['colsample_bytree']=0.7\n",
    "params['min_data_in_leaf'] = 55\n",
    "params['reg_alpha'] = 1.7\n",
    "params['reg_lambda'] = 1.11\n",
    "params['class_weight']: {0: 0.44, 1: 0.4, 2: 0.37}"
   ]
  },
  {
   "cell_type": "code",
   "execution_count": 28,
   "metadata": {
    "execution": {
     "iopub.execute_input": "2021-05-06T20:13:11.184779Z",
     "iopub.status.busy": "2021-05-06T20:13:11.184127Z",
     "iopub.status.idle": "2021-05-06T20:13:16.080330Z",
     "shell.execute_reply": "2021-05-06T20:13:16.081285Z"
    },
    "papermill": {
     "duration": 4.94814,
     "end_time": "2021-05-06T20:13:16.081469",
     "exception": false,
     "start_time": "2021-05-06T20:13:11.133329",
     "status": "completed"
    },
    "tags": []
   },
   "outputs": [
    {
     "name": "stdout",
     "output_type": "stream",
     "text": [
      "Training until validation scores don't improve for 100 rounds\n",
      "[50]\tvalid_0's multi_error: 0.156651\tvalid_0's multi_logloss: 0.42754\n",
      "[100]\tvalid_0's multi_error: 0.152768\tvalid_0's multi_logloss: 0.419176\n",
      "[150]\tvalid_0's multi_error: 0.151193\tvalid_0's multi_logloss: 0.417553\n",
      "[200]\tvalid_0's multi_error: 0.150574\tvalid_0's multi_logloss: 0.417048\n",
      "[250]\tvalid_0's multi_error: 0.150743\tvalid_0's multi_logloss: 0.416865\n",
      "[300]\tvalid_0's multi_error: 0.15063\tvalid_0's multi_logloss: 0.41677\n",
      "Early stopping, best iteration is:\n",
      "[206]\tvalid_0's multi_error: 0.150349\tvalid_0's multi_logloss: 0.417022\n"
     ]
    },
    {
     "data": {
      "text/plain": [
       "LGBMClassifier(colsample_bytree=0.7, learning_rate=0.04, max_depth=18,\n",
       "               min_data_in_leaf=55, n_estimators=1000, objective='multiclass',\n",
       "               random_state=42, reg_alpha=1.7, reg_lambda=1.11, subsample=0.7)"
      ]
     },
     "execution_count": 28,
     "metadata": {},
     "output_type": "execute_result"
    }
   ],
   "source": [
    "from lightgbm import LGBMClassifier\n",
    "predictors=train.columns\n",
    "clf = LGBMClassifier(**params)\n",
    "\n",
    "clf.fit(x_train[predictors], y_train, eval_set=[(x_test, y_test)], verbose=50,\n",
    "        eval_metric = 'multi_error', early_stopping_rounds = 100)"
   ]
  },
  {
   "cell_type": "code",
   "execution_count": 29,
   "metadata": {
    "execution": {
     "iopub.execute_input": "2021-05-06T20:13:16.221528Z",
     "iopub.status.busy": "2021-05-06T20:13:16.220621Z",
     "iopub.status.idle": "2021-05-06T20:13:16.224293Z",
     "shell.execute_reply": "2021-05-06T20:13:16.222240Z"
    },
    "papermill": {
     "duration": 0.077639,
     "end_time": "2021-05-06T20:13:16.224436",
     "exception": false,
     "start_time": "2021-05-06T20:13:16.146797",
     "status": "completed"
    },
    "tags": []
   },
   "outputs": [
    {
     "data": {
      "text/plain": [
       "{'learning_rate': 0.04,\n",
       " 'max_depth': 18,\n",
       " 'n_estimators': 206,\n",
       " 'objective': 'multiclass',\n",
       " 'boosting_type': 'gbdt',\n",
       " 'subsample': 0.7,\n",
       " 'random_state': 42,\n",
       " 'colsample_bytree': 0.7,\n",
       " 'min_data_in_leaf': 55,\n",
       " 'reg_alpha': 1.7,\n",
       " 'reg_lambda': 1.11}"
      ]
     },
     "execution_count": 29,
     "metadata": {},
     "output_type": "execute_result"
    }
   ],
   "source": [
    "# Finding best iteration \n",
    "best_iter = clf.best_iteration_\n",
    "params['n_estimators'] = best_iter\n",
    "params"
   ]
  },
  {
   "cell_type": "code",
   "execution_count": 30,
   "metadata": {
    "execution": {
     "iopub.execute_input": "2021-05-06T20:13:16.340422Z",
     "iopub.status.busy": "2021-05-06T20:13:16.339400Z",
     "iopub.status.idle": "2021-05-06T20:13:20.813761Z",
     "shell.execute_reply": "2021-05-06T20:13:20.814808Z"
    },
    "papermill": {
     "duration": 4.533347,
     "end_time": "2021-05-06T20:13:20.815032",
     "exception": false,
     "start_time": "2021-05-06T20:13:16.281685",
     "status": "completed"
    },
    "tags": []
   },
   "outputs": [
    {
     "name": "stdout",
     "output_type": "stream",
     "text": [
      "ACC: 0.8489612640392536\n"
     ]
    }
   ],
   "source": [
    "clf = LGBMClassifier(**params)\n",
    "\n",
    "clf.fit(train[predictors], y, eval_metric='multi_error', verbose=False, categorical_feature='auto')\n",
    "\n",
    "# eval_score_auc = roc_auc_score(df_train[label_col], clf.predict(df_train[feature_cols]))\n",
    "eval_score_acc = accuracy_score(y, clf.predict(train[predictors]))\n",
    "\n",
    "print('ACC: {}'.format(eval_score_acc))"
   ]
  },
  {
   "cell_type": "code",
   "execution_count": 31,
   "metadata": {
    "execution": {
     "iopub.execute_input": "2021-05-06T20:13:20.955054Z",
     "iopub.status.busy": "2021-05-06T20:13:20.953943Z",
     "iopub.status.idle": "2021-05-06T20:13:22.023815Z",
     "shell.execute_reply": "2021-05-06T20:13:22.024510Z"
    },
    "papermill": {
     "duration": 1.142932,
     "end_time": "2021-05-06T20:13:22.024686",
     "exception": false,
     "start_time": "2021-05-06T20:13:20.881754",
     "status": "completed"
    },
    "tags": []
   },
   "outputs": [],
   "source": [
    "preds = clf.predict(test)\n",
    "pred=pd.Series(preds)"
   ]
  },
  {
   "cell_type": "code",
   "execution_count": 32,
   "metadata": {
    "execution": {
     "iopub.execute_input": "2021-05-06T20:13:22.163226Z",
     "iopub.status.busy": "2021-05-06T20:13:22.162304Z",
     "iopub.status.idle": "2021-05-06T20:13:22.165658Z",
     "shell.execute_reply": "2021-05-06T20:13:22.166328Z"
    },
    "papermill": {
     "duration": 0.076434,
     "end_time": "2021-05-06T20:13:22.166492",
     "exception": false,
     "start_time": "2021-05-06T20:13:22.090058",
     "status": "completed"
    },
    "tags": []
   },
   "outputs": [],
   "source": [
    "submission = pd.DataFrame({'ID':test_id, 'Crop_Damage':preds})"
   ]
  },
  {
   "cell_type": "markdown",
   "metadata": {
    "papermill": {
     "duration": 0.050061,
     "end_time": "2021-05-06T20:13:22.277273",
     "exception": false,
     "start_time": "2021-05-06T20:13:22.227212",
     "status": "completed"
    },
    "tags": []
   },
   "source": [
    "# FEATURE IMPORTANCE"
   ]
  },
  {
   "cell_type": "code",
   "execution_count": 33,
   "metadata": {
    "execution": {
     "iopub.execute_input": "2021-05-06T20:13:22.388149Z",
     "iopub.status.busy": "2021-05-06T20:13:22.387454Z",
     "iopub.status.idle": "2021-05-06T20:13:22.671334Z",
     "shell.execute_reply": "2021-05-06T20:13:22.671788Z"
    },
    "papermill": {
     "duration": 0.343428,
     "end_time": "2021-05-06T20:13:22.671937",
     "exception": false,
     "start_time": "2021-05-06T20:13:22.328509",
     "status": "completed"
    },
    "tags": []
   },
   "outputs": [
    {
     "data": {
      "text/plain": [
       "<matplotlib.axes._subplots.AxesSubplot at 0x7f63f9e7cb90>"
      ]
     },
     "execution_count": 33,
     "metadata": {},
     "output_type": "execute_result"
    },
    {
     "data": {
      "image/png": "[encoded data removed]",
      "text/plain": [
       "<Figure size 432x288 with 1 Axes>"
      ]
     },
     "metadata": {},
     "output_type": "display_data"
    }
   ],
   "source": [
    "fi = pd.Series(index = predictors, data = clf.feature_importances_)\n",
    "fi.sort_values(ascending=False)[0:20][::-1].plot(kind = 'barh')"
   ]
  },
  {
   "cell_type": "code",
   "execution_count": null,
   "metadata": {
    "papermill": {
     "duration": 0.051967,
     "end_time": "2021-05-06T20:13:22.776021",
     "exception": false,
     "start_time": "2021-05-06T20:13:22.724054",
     "status": "completed"
    },
    "tags": []
   },
   "outputs": [],
   "source": []
  }
 ],
 "metadata": {
  "kernelspec": {
   "display_name": "Python 3",
   "language": "python",
   "name": "python3"
  },
  "language_info": {
   "codemirror_mode": {
    "name": "ipython",
    "version": 3
   },
   "file_extension": ".py",
   "mimetype": "text/x-python",
   "name": "python",
   "nbconvert_exporter": "python",
   "pygments_lexer": "ipython3",
   "version": "3.7.6"
  },
  "papermill": {
   "duration": 27.769284,
   "end_time": "2021-05-06T20:13:22.936775",
   "environment_variables": {},
   "exception": null,
   "input_path": "__notebook__.ipynb",
   "output_path": "__notebook__.ipynb",
   "parameters": {},
   "start_time": "2021-05-06T20:12:55.167491",
   "version": "2.1.0"
  }
 },
 "nbformat": 4,
 "nbformat_minor": 4
}
